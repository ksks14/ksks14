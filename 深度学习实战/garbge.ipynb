{
 "cells": [
  {
   "cell_type": "markdown",
   "metadata": {},
   "source": [
    "# pytorch深度网络垃圾分类\n",
    "\n",
    "* 查看数据，分类，分布等\n",
    "* 构建四分类的数据集\n",
    "* 查看构建好的四分类数据集，防止出现问题\n",
    "* 构建四十分类的数据集\n",
    "* 查看图片数据，获取图片处理的基本信息"
   ]
  },
  {
   "cell_type": "markdown",
   "metadata": {},
   "source": [
    "## 数据预处理"
   ]
  },
  {
   "cell_type": "code",
   "execution_count": 2,
   "metadata": {
    "collapsed": true
   },
   "outputs": [],
   "source": [
    "## 导库\n",
    "\n",
    "## 文件操作\n",
    "import os\n",
    "import shutil\n",
    "import codecs\n",
    "from os import walk\n",
    "from glob import glob\n",
    "\n",
    "## 统计库\n",
    "from collections import Counter\n",
    "\n",
    "## 随机库\n",
    "import random\n",
    "\n",
    "\n",
    "## 可视化\n",
    "import seaborn as sns\n",
    "import matplotlib.pyplot as plt\n",
    "from pyecharts import  options as opts\n",
    "from pyecharts.charts import Bar\n",
    "\n",
    "\n",
    "\n",
    "# 导入计算库\n",
    "import numpy as np\n",
    "\n",
    "\n",
    "## 图片操作\n",
    "from PIL import Image"
   ]
  },
  {
   "cell_type": "markdown",
   "metadata": {},
   "source": [
    "### 做四十分类的标签查询"
   ]
  },
  {
   "cell_type": "code",
   "execution_count": 3,
   "metadata": {},
   "outputs": [
    {
     "name": "stdout",
     "output_type": "stream",
     "text": [
      "{0: 0, 1: 0, 2: 0, 3: 0, 4: 0, 5: 0, 6: 1, 7: 1, 8: 1, 9: 1, 10: 1, 11: 1, 12: 1, 13: 1, 14: 2, 15: 2, 16: 2, 17: 2, 18: 2, 19: 2, 20: 2, 21: 2, 22: 2, 23: 2, 24: 2, 25: 2, 26: 2, 27: 2, 28: 2, 29: 2, 30: 2, 31: 2, 32: 2, 33: 2, 34: 2, 35: 2, 36: 2, 37: 3, 38: 3, 39: 3}\n"
     ]
    }
   ],
   "source": [
    "## 做四十分类处理\n",
    "\n",
    "garbage_classify_rule = {\n",
    "    \"0\": \"其他垃圾/一次性快餐盒\",\n",
    "    \"1\": \"其他垃圾/污损塑料\",\n",
    "    \"2\": \"其他垃圾/烟蒂\",\n",
    "    \"3\": \"其他垃圾/牙签\",\n",
    "    \"4\": \"其他垃圾/破碎花盆及碟碗\",\n",
    "    \"5\": \"其他垃圾/竹筷\",\n",
    "    \"6\": \"厨余垃圾/剩饭剩菜\",\n",
    "    \"7\": \"厨余垃圾/大骨头\",\n",
    "    \"8\": \"厨余垃圾/水果果皮\",\n",
    "    \"9\": \"厨余垃圾/水果果肉\",\n",
    "    \"10\": \"厨余垃圾/茶叶渣\",\n",
    "    \"11\": \"厨余垃圾/菜叶菜根\",\n",
    "    \"12\": \"厨余垃圾/蛋壳\",\n",
    "    \"13\": \"厨余垃圾/鱼骨\",\n",
    "    \"14\": \"可回收物/充电宝\",\n",
    "    \"15\": \"可回收物/包\",\n",
    "    \"16\": \"可回收物/化妆品瓶\",\n",
    "    \"17\": \"可回收物/塑料玩具\",\n",
    "    \"18\": \"可回收物/塑料碗盆\",\n",
    "    \"19\": \"可回收物/塑料衣架\",\n",
    "    \"20\": \"可回收物/快递纸袋\",\n",
    "    \"21\": \"可回收物/插头电线\",\n",
    "    \"22\": \"可回收物/旧衣服\",\n",
    "    \"23\": \"可回收物/易拉罐\",\n",
    "    \"24\": \"可回收物/枕头\",\n",
    "    \"25\": \"可回收物/毛绒玩具\",\n",
    "    \"26\": \"可回收物/洗发水瓶\",\n",
    "    \"27\": \"可回收物/玻璃杯\",\n",
    "    \"28\": \"可回收物/皮鞋\",\n",
    "    \"29\": \"可回收物/砧板\",\n",
    "    \"30\": \"可回收物/纸板箱\",\n",
    "    \"31\": \"可回收物/调料瓶\",\n",
    "    \"32\": \"可回收物/酒瓶\",\n",
    "    \"33\": \"可回收物/金属食品罐\",\n",
    "    \"34\": \"可回收物/锅\",\n",
    "    \"35\": \"可回收物/食用油桶\",\n",
    "    \"36\": \"可回收物/饮料瓶\",\n",
    "    \"37\": \"有害垃圾/干电池\",\n",
    "    \"38\": \"有害垃圾/软膏\",\n",
    "    \"39\": \"有害垃圾/过期药物\"\n",
    "}\n",
    "\n",
    "garbage_classify_index = {\"0\": \"其他垃圾\", \"1\": \"厨余垃圾\", \"2\": \"可回收物\", \"3\": \"有害垃圾\"}\n",
    "garbage_index_classify = {\"其他垃圾\":\"0\",\"厨余垃圾\":\"1\", \"可回收物\":\"2\",\"有害垃圾\":\"3\"}\n",
    "\n",
    "data_list = []\n",
    "rank1_garbage_classify_rule = {}\n",
    "for k,v in garbage_classify_rule.items():\n",
    "    rank1_k = v.split('/')[0] \n",
    "    rank1_v = k\n",
    "    data_list.append([rank1_k,int(garbage_index_classify[rank1_k]),int(rank1_v)])\n",
    "\n",
    "rank_k_v_dict = {}\n",
    "\n",
    "for data in data_list:\n",
    "    k = data[2] # 原标签\n",
    "    v = data[1]# 新标签\n",
    "    rank_k_v_dict[k]=v\n",
    "    \n",
    "## 获取到的字典，前者为垃圾小类标签，后者为垃圾大类标签\n",
    "print(rank_k_v_dict)"
   ]
  },
  {
   "cell_type": "markdown",
   "metadata": {},
   "source": [
    "### 查询文件信息"
   ]
  },
  {
   "cell_type": "code",
   "execution_count": 4,
   "metadata": {},
   "outputs": [
    {
     "name": "stdout",
     "output_type": "stream",
     "text": [
      "************************************************************\n",
      "Directory path:  ./data/garbage_classify/train_data\n",
      "total examples:  29604\n",
      "File name Example:  ['img_1.jpg', 'img_1.txt', 'img_10.jpg', 'img_10.txt', 'img_100.jpg']\n"
     ]
    }
   ],
   "source": [
    "## 将文件添加至同目录下\n",
    "base_path = './data/'\n",
    "data_path = os.path.join(base_path,'garbage_classify/train_data')\n",
    "\n",
    "for (dirpath, dirnames, filenames) in walk(data_path):\n",
    "    if len(filenames)>0:\n",
    "        print('*'*60)\n",
    "        print(\"Directory path: \", dirpath)\n",
    "        print(\"total examples: \", len(filenames))\n",
    "        print(\"File name Example: \", filenames[:5])"
   ]
  },
  {
   "cell_type": "markdown",
   "metadata": {},
   "source": [
    "### 获取对应路径加标签的信息"
   ]
  },
  {
   "cell_type": "code",
   "execution_count": 5,
   "metadata": {},
   "outputs": [],
   "source": [
    "## 获得图片路径加对应的标签信息。\n",
    "\n",
    "def get_img_info():\n",
    "\n",
    "    ## 获取文件名。\n",
    "    data_path_txt=os.path.join(data_path,\"*.txt\")\n",
    "    ## 利用glob去匹配 获取所有的txt。\n",
    "    txt_file_list=glob(data_path_txt)\n",
    "    ## 储存创建的新的txt文本，做标签文件，这里文件不存在可以自动创建因此不用担心。\n",
    "    img_txt_file=\"img.txt\"\n",
    "    img_path_list=[]\n",
    "\n",
    "    for txt_file in txt_file_list:\n",
    "        with open(txt_file,\"r\") as f:\n",
    "            line=f.readline().strip().split(\",\")\n",
    "        img_name=line[0]\n",
    "        label=int(line[1])\n",
    "        img_name_path=os.path.join(base_path,'garbage_classify/train_data/{}'.format(img_name))\n",
    "        img_path_list.append({\"img_name_path\":img_name_path,\"label\":label})\n",
    "\n",
    "    return img_path_list\n"
   ]
  },
  {
   "cell_type": "code",
   "execution_count": 6,
   "metadata": {},
   "outputs": [],
   "source": [
    "img_path_list=get_img_info()"
   ]
  },
  {
   "cell_type": "markdown",
   "metadata": {},
   "source": [
    "* 检查数据"
   ]
  },
  {
   "cell_type": "code",
   "execution_count": 7,
   "metadata": {},
   "outputs": [
    {
     "data": {
      "text/plain": [
       "[{'img_name_path': './data/garbage_classify/train_data/img_1.jpg', 'label': 0},\n",
       " {'img_name_path': './data/garbage_classify/train_data/img_10.jpg',\n",
       "  'label': 0},\n",
       " {'img_name_path': './data/garbage_classify/train_data/img_100.jpg',\n",
       "  'label': 0},\n",
       " {'img_name_path': './data/garbage_classify/train_data/img_1000.jpg',\n",
       "  'label': 2},\n",
       " {'img_name_path': './data/garbage_classify/train_data/img_10000.jpg',\n",
       "  'label': 21}]"
      ]
     },
     "execution_count": 7,
     "metadata": {},
     "output_type": "execute_result"
    }
   ],
   "source": [
    "img_path_list[:5]"
   ]
  },
  {
   "cell_type": "markdown",
   "metadata": {},
   "source": [
    "### 修改为一级分类"
   ]
  },
  {
   "cell_type": "code",
   "execution_count": 8,
   "metadata": {},
   "outputs": [
    {
     "name": "stdout",
     "output_type": "stream",
     "text": [
      "img_path_list =  [{'img_name_path': './data/garbage_classify/train_data/img_1.jpg', 'label': 0}, {'img_name_path': './data/garbage_classify/train_data/img_10.jpg', 'label': 0}, {'img_name_path': './data/garbage_classify/train_data/img_100.jpg', 'label': 0}]\n",
      "img_label_dict =  {0: 1652, 2: 8611, 3: 1150, 1: 3389}\n"
     ]
    }
   ],
   "source": [
    "## 进行修改为一级分类的标签\n",
    "img_path_list = []\n",
    "img_label_dict={}\n",
    "for img_info in get_img_info():\n",
    "    img_label = img_info['label']# 修正前的标签\n",
    "    img_label = rank_k_v_dict[img_label]\n",
    "    img_info.update({'label':img_label}) # 修正后的标签\n",
    "    \n",
    "     # 图片路径＋标签\n",
    "    img_path_list.append(img_info)\n",
    "\n",
    "    # 统计每个标签出现次数\n",
    "    img_label = int(img_label)\n",
    "    img_label_count = img_label_dict.get(img_label,0)\n",
    "    if img_label_count:\n",
    "        img_label_dict[img_label] = img_label_count + 1\n",
    "    else:\n",
    "        img_label_dict[img_label] = 1\n",
    "\n",
    "\n",
    "print('img_path_list = ',img_path_list[:3])\n",
    "print('img_label_dict = ',img_label_dict)"
   ]
  },
  {
   "cell_type": "markdown",
   "metadata": {},
   "source": [
    "### 查看数据"
   ]
  },
  {
   "cell_type": "code",
   "execution_count": 9,
   "metadata": {},
   "outputs": [
    {
     "name": "stdout",
     "output_type": "stream",
     "text": [
      "{0: 1652, 1: 3389, 2: 8611, 3: 1150}\n",
      "{'0': '其他垃圾', '1': '厨余垃圾', '2': '可回收物', '3': '有害垃圾'}\n",
      "['其他垃圾', '厨余垃圾', '可回收物', '有害垃圾']\n",
      "[1652, 3389, 8611, 1150]\n"
     ]
    }
   ],
   "source": [
    "img_label_dict = dict(sorted(img_label_dict.items()))\n",
    "print(img_label_dict)\n",
    "print(garbage_classify_index)\n",
    "print([garbage_classify_index[str(k)] for k in img_label_dict.keys()])\n",
    "print(list(img_label_dict.values()))"
   ]
  },
  {
   "cell_type": "markdown",
   "metadata": {},
   "source": [
    "### 可视化查看"
   ]
  },
  {
   "cell_type": "code",
   "execution_count": 10,
   "metadata": {},
   "outputs": [
    {
     "data": {
      "text/html": [
       "\n",
       "<script>\n",
       "    require.config({\n",
       "        paths: {\n",
       "            'echarts':'https://assets.pyecharts.org/assets/echarts.min'\n",
       "        }\n",
       "    });\n",
       "</script>\n",
       "\n",
       "        <div id=\"26eb912dac9c4e38a3fc83af44c4a9c8\" style=\"width:900px; height:500px;\"></div>\n",
       "\n",
       "<script>\n",
       "        require(['echarts'], function(echarts) {\n",
       "                var chart_26eb912dac9c4e38a3fc83af44c4a9c8 = echarts.init(\n",
       "                    document.getElementById('26eb912dac9c4e38a3fc83af44c4a9c8'), 'white', {renderer: 'canvas'});\n",
       "                var option_26eb912dac9c4e38a3fc83af44c4a9c8 = {\n",
       "    \"animation\": true,\n",
       "    \"animationThreshold\": 2000,\n",
       "    \"animationDuration\": 1000,\n",
       "    \"animationEasing\": \"cubicOut\",\n",
       "    \"animationDelay\": 0,\n",
       "    \"animationDurationUpdate\": 300,\n",
       "    \"animationEasingUpdate\": \"cubicOut\",\n",
       "    \"animationDelayUpdate\": 0,\n",
       "    \"color\": [\n",
       "        \"#c23531\",\n",
       "        \"#2f4554\",\n",
       "        \"#61a0a8\",\n",
       "        \"#d48265\",\n",
       "        \"#749f83\",\n",
       "        \"#ca8622\",\n",
       "        \"#bda29a\",\n",
       "        \"#6e7074\",\n",
       "        \"#546570\",\n",
       "        \"#c4ccd3\",\n",
       "        \"#f05b72\",\n",
       "        \"#ef5b9c\",\n",
       "        \"#f47920\",\n",
       "        \"#905a3d\",\n",
       "        \"#fab27b\",\n",
       "        \"#2a5caa\",\n",
       "        \"#444693\",\n",
       "        \"#726930\",\n",
       "        \"#b2d235\",\n",
       "        \"#6d8346\",\n",
       "        \"#ac6767\",\n",
       "        \"#1d953f\",\n",
       "        \"#6950a1\",\n",
       "        \"#918597\"\n",
       "    ],\n",
       "    \"series\": [\n",
       "        {\n",
       "            \"type\": \"bar\",\n",
       "            \"legendHoverLink\": true,\n",
       "            \"data\": [\n",
       "                1652,\n",
       "                3389,\n",
       "                8611,\n",
       "                1150\n",
       "            ],\n",
       "            \"showBackground\": false,\n",
       "            \"barMinHeight\": 0,\n",
       "            \"barCategoryGap\": \"20%\",\n",
       "            \"barGap\": \"30%\",\n",
       "            \"large\": false,\n",
       "            \"largeThreshold\": 400,\n",
       "            \"seriesLayoutBy\": \"column\",\n",
       "            \"datasetIndex\": 0,\n",
       "            \"clip\": true,\n",
       "            \"zlevel\": 0,\n",
       "            \"z\": 2,\n",
       "            \"label\": {\n",
       "                \"show\": true,\n",
       "                \"position\": \"top\",\n",
       "                \"margin\": 8\n",
       "            }\n",
       "        }\n",
       "    ],\n",
       "    \"legend\": [\n",
       "        {\n",
       "            \"data\": [\n",
       "                \"\"\n",
       "            ],\n",
       "            \"selected\": {\n",
       "                \"\": true\n",
       "            },\n",
       "            \"show\": true,\n",
       "            \"padding\": 5,\n",
       "            \"itemGap\": 10,\n",
       "            \"itemWidth\": 25,\n",
       "            \"itemHeight\": 14\n",
       "        }\n",
       "    ],\n",
       "    \"tooltip\": {\n",
       "        \"show\": true,\n",
       "        \"trigger\": \"item\",\n",
       "        \"triggerOn\": \"mousemove|click\",\n",
       "        \"axisPointer\": {\n",
       "            \"type\": \"line\"\n",
       "        },\n",
       "        \"showContent\": true,\n",
       "        \"alwaysShowContent\": false,\n",
       "        \"showDelay\": 0,\n",
       "        \"hideDelay\": 100,\n",
       "        \"textStyle\": {\n",
       "            \"fontSize\": 14\n",
       "        },\n",
       "        \"borderWidth\": 0,\n",
       "        \"padding\": 5\n",
       "    },\n",
       "    \"xAxis\": [\n",
       "        {\n",
       "            \"show\": true,\n",
       "            \"scale\": false,\n",
       "            \"nameLocation\": \"end\",\n",
       "            \"nameGap\": 15,\n",
       "            \"gridIndex\": 0,\n",
       "            \"axisLabel\": {\n",
       "                \"show\": true,\n",
       "                \"position\": \"top\",\n",
       "                \"rotate\": 15,\n",
       "                \"margin\": 8\n",
       "            },\n",
       "            \"inverse\": false,\n",
       "            \"offset\": 0,\n",
       "            \"splitNumber\": 5,\n",
       "            \"minInterval\": 0,\n",
       "            \"splitLine\": {\n",
       "                \"show\": false,\n",
       "                \"lineStyle\": {\n",
       "                    \"show\": true,\n",
       "                    \"width\": 1,\n",
       "                    \"opacity\": 1,\n",
       "                    \"curveness\": 0,\n",
       "                    \"type\": \"solid\"\n",
       "                }\n",
       "            },\n",
       "            \"data\": [\n",
       "                \"\\u5176\\u4ed6\\u5783\\u573e\",\n",
       "                \"\\u53a8\\u4f59\\u5783\\u573e\",\n",
       "                \"\\u53ef\\u56de\\u6536\\u7269\",\n",
       "                \"\\u6709\\u5bb3\\u5783\\u573e\"\n",
       "            ]\n",
       "        }\n",
       "    ],\n",
       "    \"yAxis\": [\n",
       "        {\n",
       "            \"show\": true,\n",
       "            \"scale\": false,\n",
       "            \"nameLocation\": \"end\",\n",
       "            \"nameGap\": 15,\n",
       "            \"gridIndex\": 0,\n",
       "            \"inverse\": false,\n",
       "            \"offset\": 0,\n",
       "            \"splitNumber\": 5,\n",
       "            \"minInterval\": 0,\n",
       "            \"splitLine\": {\n",
       "                \"show\": false,\n",
       "                \"lineStyle\": {\n",
       "                    \"show\": true,\n",
       "                    \"width\": 1,\n",
       "                    \"opacity\": 1,\n",
       "                    \"curveness\": 0,\n",
       "                    \"type\": \"solid\"\n",
       "                }\n",
       "            }\n",
       "        }\n",
       "    ],\n",
       "    \"title\": [\n",
       "        {\n",
       "            \"text\": \"\\u5783\\u573e\\u5206\\u7c7b 4\\u7c7b\\u5783\\u573e\\u6570\\u91cf\\u7edf\\u8ba1\",\n",
       "            \"padding\": 5,\n",
       "            \"itemGap\": 10\n",
       "        }\n",
       "    ]\n",
       "};\n",
       "                chart_26eb912dac9c4e38a3fc83af44c4a9c8.setOption(option_26eb912dac9c4e38a3fc83af44c4a9c8);\n",
       "        });\n",
       "    </script>\n"
      ],
      "text/plain": [
       "<pyecharts.render.display.HTML at 0x1e57f369358>"
      ]
     },
     "execution_count": 10,
     "metadata": {},
     "output_type": "execute_result"
    }
   ],
   "source": [
    "\n",
    "\n",
    "# 构建满足pyecharts 格式数据\n",
    "x = [garbage_classify_index[str(k)] for k in img_label_dict.keys()]\n",
    "y = list(img_label_dict.values())\n",
    "\n",
    "# 创建Bar 示例对象，同时x，y轴数据填充\n",
    "bar = Bar()\n",
    "\n",
    "bar.add_xaxis(xaxis_data=x)\n",
    "bar.add_yaxis(series_name='',y_axis=y)\n",
    "\n",
    "# 设置全局参数\n",
    "bar.set_global_opts(\n",
    "    title_opts=opts.TitleOpts(title='垃圾分类 4类垃圾数量统计'),\n",
    "    xaxis_opts=opts.AxisOpts(axislabel_opts=opts.LabelOpts(rotate=15))\n",
    ")\n",
    "\n",
    "# 展示图表\n",
    "bar.render()\n",
    "bar.render_notebook()"
   ]
  },
  {
   "cell_type": "markdown",
   "metadata": {},
   "source": [
    "## 构建四分类数据集"
   ]
  },
  {
   "cell_type": "markdown",
   "metadata": {},
   "source": [
    "### 获取总数据量"
   ]
  },
  {
   "cell_type": "code",
   "execution_count": 11,
   "metadata": {},
   "outputs": [
    {
     "data": {
      "text/plain": [
       "14802"
      ]
     },
     "execution_count": 11,
     "metadata": {},
     "output_type": "execute_result"
    }
   ],
   "source": [
    "len(img_path_list)"
   ]
  },
  {
   "cell_type": "markdown",
   "metadata": {},
   "source": [
    "### 对数据进行8/2分"
   ]
  },
  {
   "cell_type": "code",
   "execution_count": 12,
   "metadata": {},
   "outputs": [
    {
     "name": "stdout",
     "output_type": "stream",
     "text": [
      "train_size= 11841\n",
      "valid_size= 2961\n"
     ]
    }
   ],
   "source": [
    "\n",
    "## 打乱数据。\n",
    "random.shuffle(img_path_list)\n",
    "\n",
    "## 获取数量。\n",
    "img_count=len(img_path_list)\n",
    "train_img_list=img_path_list[:int(img_count*0.8)]\n",
    "val_img_list=img_path_list[int(img_count*0.8):]\n",
    "\n",
    "## 查看数量。\n",
    "print('train_size=',len(train_img_list))\n",
    "print('valid_size=',len(val_img_list))\n"
   ]
  },
  {
   "cell_type": "markdown",
   "metadata": {},
   "source": [
    "### 生成训练集\n",
    "* 检测路径是否有效\n",
    "* 生成训练集\n",
    "* 生成测试集"
   ]
  },
  {
   "cell_type": "code",
   "execution_count": 13,
   "metadata": {},
   "outputs": [],
   "source": [
    "## 检测路径是否存在，不存在则创建一个路径。\n",
    "\n",
    "## 该路径用于四分类训练。\n",
    "train_path=os.path.join(base_path,'4_garbage-classify-for-pytorch')\n",
    "if os.path.exists(train_path) is not True:\n",
    "    os.mkdir(train_path)\n",
    "    \n",
    "with open(os.path.join(base_path,'4_garbage-classify-for-pytorch/train.txt'),'w') as f:\n",
    "    for img_dict in train_img_list:\n",
    "        img_name_path =img_dict['img_name_path'] # ../data/garbage_classify/img_11674.jpg\n",
    "        img_label=img_dict['label']\n",
    "        f.write(\"{}\\t{}\\n\".format(img_name_path,img_label))\n",
    "        # 图片-标签目录\n",
    "        garbage_classify_dir=os.path.join(base_path,'4_garbage-classify-for-pytorch/train/{}'.format(img_label))\n",
    "        if not os.path.exists(garbage_classify_dir):\n",
    "            os.makedirs(garbage_classify_dir)\n",
    "        # 拷贝数据到目录下\n",
    "        shutil.copy(img_name_path,garbage_classify_dir)\n",
    "        \n",
    "with open(os.path.join(base_path,'4_garbage-classify-for-pytorch/val.txt'),'w') as f:\n",
    "    for img_dict in val_img_list:\n",
    "        #文本格式数据\n",
    "        img_name_path = img_dict['img_name_path'] # ../data/garbage_classify/img_11674.jpg\n",
    "        img_label = img_dict['label']\n",
    "        f.write(\"{}\\t{}\\n\".format(img_name_path,img_label))\n",
    "        # 图片-标签目录\n",
    "        garbage_classify_dir = os.path.join(base_path,'4_garbage-classify-for-pytorch/val/{}'.format(img_label))\n",
    "        #print(garbage_classify_dir)\n",
    "        if not os.path.exists(garbage_classify_dir):\n",
    "            os.makedirs(garbage_classify_dir)\n",
    "        # 拷贝数据到目录下\n",
    "        #print(garbage_classify_dir,img_name_path)\n",
    "        shutil.copy(img_name_path,garbage_classify_dir)"
   ]
  },
  {
   "cell_type": "markdown",
   "metadata": {},
   "source": [
    "### 查看训练集和测试集的数据"
   ]
  },
  {
   "cell_type": "code",
   "execution_count": 14,
   "metadata": {},
   "outputs": [
    {
     "name": "stdout",
     "output_type": "stream",
     "text": [
      "garbage_classify_index =  {'0': '其他垃圾', '1': '厨余垃圾', '2': '可回收物', '3': '有害垃圾'}\n",
      "train_dict =  {0: 1324, 1: 2716, 2: 6901, 3: 900}\n",
      "test_dict =  {0: 328, 1: 673, 2: 1710, 3: 250}\n"
     ]
    }
   ],
   "source": [
    "## 获取路径。\n",
    "train_path=os.path.join(base_path,'4_garbage-classify-for-pytorch/train.txt')\n",
    "test_path=os.path.join(base_path,'4_garbage-classify-for-pytorch/val.txt')\n",
    "\n",
    "\n",
    "def get_label_idx_list(data_path):\n",
    "    label_idx_list = []\n",
    "\n",
    "    for line in codecs.open(data_path,'r'):\n",
    "        line = line.strip()\n",
    "        label_idx = line.split('\\t')[1]\n",
    "        label_idx_list.append(int(label_idx))\n",
    "    return label_idx_list\n",
    "\n",
    "train_dict = dict(Counter(get_label_idx_list(train_path)))\n",
    "test_dict = dict(Counter(get_label_idx_list(test_path)))\n",
    "\n",
    "train_dict = dict(sorted(train_dict.items()))\n",
    "test_dict = dict(sorted(test_dict.items()))\n",
    "\n",
    "print('garbage_classify_index = ',garbage_classify_index)\n",
    "print(\"train_dict = \",train_dict)\n",
    "print(\"test_dict = \",test_dict)\n"
   ]
  },
  {
   "cell_type": "markdown",
   "metadata": {},
   "source": [
    "### 可视化查看"
   ]
  },
  {
   "cell_type": "code",
   "execution_count": 15,
   "metadata": {},
   "outputs": [
    {
     "data": {
      "text/html": [
       "\n",
       "<script>\n",
       "    require.config({\n",
       "        paths: {\n",
       "            'echarts':'https://assets.pyecharts.org/assets/echarts.min'\n",
       "        }\n",
       "    });\n",
       "</script>\n",
       "\n",
       "        <div id=\"04e547c462364d94ad9080c77db56fdd\" style=\"width:900px; height:500px;\"></div>\n",
       "\n",
       "<script>\n",
       "        require(['echarts'], function(echarts) {\n",
       "                var chart_04e547c462364d94ad9080c77db56fdd = echarts.init(\n",
       "                    document.getElementById('04e547c462364d94ad9080c77db56fdd'), 'white', {renderer: 'canvas'});\n",
       "                var option_04e547c462364d94ad9080c77db56fdd = {\n",
       "    \"animation\": true,\n",
       "    \"animationThreshold\": 2000,\n",
       "    \"animationDuration\": 1000,\n",
       "    \"animationEasing\": \"cubicOut\",\n",
       "    \"animationDelay\": 0,\n",
       "    \"animationDurationUpdate\": 300,\n",
       "    \"animationEasingUpdate\": \"cubicOut\",\n",
       "    \"animationDelayUpdate\": 0,\n",
       "    \"color\": [\n",
       "        \"#c23531\",\n",
       "        \"#2f4554\",\n",
       "        \"#61a0a8\",\n",
       "        \"#d48265\",\n",
       "        \"#749f83\",\n",
       "        \"#ca8622\",\n",
       "        \"#bda29a\",\n",
       "        \"#6e7074\",\n",
       "        \"#546570\",\n",
       "        \"#c4ccd3\",\n",
       "        \"#f05b72\",\n",
       "        \"#ef5b9c\",\n",
       "        \"#f47920\",\n",
       "        \"#905a3d\",\n",
       "        \"#fab27b\",\n",
       "        \"#2a5caa\",\n",
       "        \"#444693\",\n",
       "        \"#726930\",\n",
       "        \"#b2d235\",\n",
       "        \"#6d8346\",\n",
       "        \"#ac6767\",\n",
       "        \"#1d953f\",\n",
       "        \"#6950a1\",\n",
       "        \"#918597\"\n",
       "    ],\n",
       "    \"series\": [\n",
       "        {\n",
       "            \"type\": \"bar\",\n",
       "            \"name\": \"Train\",\n",
       "            \"legendHoverLink\": true,\n",
       "            \"data\": [\n",
       "                1324,\n",
       "                2716,\n",
       "                6901,\n",
       "                900\n",
       "            ],\n",
       "            \"showBackground\": false,\n",
       "            \"barMinHeight\": 0,\n",
       "            \"barCategoryGap\": \"20%\",\n",
       "            \"barGap\": \"30%\",\n",
       "            \"large\": false,\n",
       "            \"largeThreshold\": 400,\n",
       "            \"seriesLayoutBy\": \"column\",\n",
       "            \"datasetIndex\": 0,\n",
       "            \"clip\": true,\n",
       "            \"zlevel\": 0,\n",
       "            \"z\": 2,\n",
       "            \"label\": {\n",
       "                \"show\": true,\n",
       "                \"position\": \"top\",\n",
       "                \"margin\": 8\n",
       "            }\n",
       "        },\n",
       "        {\n",
       "            \"type\": \"bar\",\n",
       "            \"name\": \"Val\",\n",
       "            \"legendHoverLink\": true,\n",
       "            \"data\": [\n",
       "                328,\n",
       "                673,\n",
       "                1710,\n",
       "                250\n",
       "            ],\n",
       "            \"showBackground\": false,\n",
       "            \"barMinHeight\": 0,\n",
       "            \"barCategoryGap\": \"20%\",\n",
       "            \"barGap\": \"30%\",\n",
       "            \"large\": false,\n",
       "            \"largeThreshold\": 400,\n",
       "            \"seriesLayoutBy\": \"column\",\n",
       "            \"datasetIndex\": 0,\n",
       "            \"clip\": true,\n",
       "            \"zlevel\": 0,\n",
       "            \"z\": 2,\n",
       "            \"label\": {\n",
       "                \"show\": true,\n",
       "                \"position\": \"top\",\n",
       "                \"margin\": 8\n",
       "            }\n",
       "        }\n",
       "    ],\n",
       "    \"legend\": [\n",
       "        {\n",
       "            \"data\": [\n",
       "                \"Train\",\n",
       "                \"Val\"\n",
       "            ],\n",
       "            \"selected\": {\n",
       "                \"Train\": true,\n",
       "                \"Val\": true\n",
       "            },\n",
       "            \"show\": true,\n",
       "            \"padding\": 5,\n",
       "            \"itemGap\": 10,\n",
       "            \"itemWidth\": 25,\n",
       "            \"itemHeight\": 14\n",
       "        }\n",
       "    ],\n",
       "    \"tooltip\": {\n",
       "        \"show\": true,\n",
       "        \"trigger\": \"item\",\n",
       "        \"triggerOn\": \"mousemove|click\",\n",
       "        \"axisPointer\": {\n",
       "            \"type\": \"line\"\n",
       "        },\n",
       "        \"showContent\": true,\n",
       "        \"alwaysShowContent\": false,\n",
       "        \"showDelay\": 0,\n",
       "        \"hideDelay\": 100,\n",
       "        \"textStyle\": {\n",
       "            \"fontSize\": 14\n",
       "        },\n",
       "        \"borderWidth\": 0,\n",
       "        \"padding\": 5\n",
       "    },\n",
       "    \"xAxis\": [\n",
       "        {\n",
       "            \"show\": true,\n",
       "            \"scale\": false,\n",
       "            \"nameLocation\": \"end\",\n",
       "            \"nameGap\": 15,\n",
       "            \"gridIndex\": 0,\n",
       "            \"axisLabel\": {\n",
       "                \"show\": true,\n",
       "                \"position\": \"top\",\n",
       "                \"rotate\": 15,\n",
       "                \"margin\": 8\n",
       "            },\n",
       "            \"inverse\": false,\n",
       "            \"offset\": 0,\n",
       "            \"splitNumber\": 5,\n",
       "            \"minInterval\": 0,\n",
       "            \"splitLine\": {\n",
       "                \"show\": false,\n",
       "                \"lineStyle\": {\n",
       "                    \"show\": true,\n",
       "                    \"width\": 1,\n",
       "                    \"opacity\": 1,\n",
       "                    \"curveness\": 0,\n",
       "                    \"type\": \"solid\"\n",
       "                }\n",
       "            },\n",
       "            \"data\": [\n",
       "                \"0-\\u5176\\u4ed6\\u5783\\u573e\",\n",
       "                \"1-\\u53a8\\u4f59\\u5783\\u573e\",\n",
       "                \"2-\\u53ef\\u56de\\u6536\\u7269\",\n",
       "                \"3-\\u6709\\u5bb3\\u5783\\u573e\"\n",
       "            ]\n",
       "        }\n",
       "    ],\n",
       "    \"yAxis\": [\n",
       "        {\n",
       "            \"show\": true,\n",
       "            \"scale\": false,\n",
       "            \"nameLocation\": \"end\",\n",
       "            \"nameGap\": 15,\n",
       "            \"gridIndex\": 0,\n",
       "            \"inverse\": false,\n",
       "            \"offset\": 0,\n",
       "            \"splitNumber\": 5,\n",
       "            \"minInterval\": 0,\n",
       "            \"splitLine\": {\n",
       "                \"show\": false,\n",
       "                \"lineStyle\": {\n",
       "                    \"show\": true,\n",
       "                    \"width\": 1,\n",
       "                    \"opacity\": 1,\n",
       "                    \"curveness\": 0,\n",
       "                    \"type\": \"solid\"\n",
       "                }\n",
       "            }\n",
       "        }\n",
       "    ],\n",
       "    \"title\": [\n",
       "        {\n",
       "            \"text\": \"\\u5783\\u573e\\u5206\\u7c7b \\u4e0d\\u540c\\u7c7b\\u522b\\u6570\\u636e\\u6570\\u91cf\\u7edf\\u8ba1\",\n",
       "            \"padding\": 5,\n",
       "            \"itemGap\": 10\n",
       "        }\n",
       "    ]\n",
       "};\n",
       "                chart_04e547c462364d94ad9080c77db56fdd.setOption(option_04e547c462364d94ad9080c77db56fdd);\n",
       "        });\n",
       "    </script>\n"
      ],
      "text/plain": [
       "<pyecharts.render.display.HTML at 0x1e580263748>"
      ]
     },
     "execution_count": 15,
     "metadata": {},
     "output_type": "execute_result"
    }
   ],
   "source": [
    "# 创建Bar 示例对象，同时x，y轴数据填充\n",
    "bar = Bar(init_opts=opts.InitOpts())\n",
    "\n",
    "assert len(train_dict.keys())==len(test_dict.keys())\n",
    "x = [ \"{}-{}\".format(label_idx, garbage_classify_index.get(str(label_idx),\"\"))  \n",
    "     for label_idx in img_label_dict.keys()]\n",
    "\n",
    "bar.add_xaxis(xaxis_data=list(x))\n",
    "bar.add_yaxis(series_name='Train',y_axis=list(train_dict.values()))\n",
    "bar.add_yaxis(series_name='Val',y_axis=list(test_dict.values()))\n",
    "\n",
    "# 设置全局参数\n",
    "bar.set_global_opts(\n",
    "    title_opts=opts.TitleOpts(title='垃圾分类 不同类别数据数量统计'),\n",
    "    xaxis_opts=opts.AxisOpts(axislabel_opts=opts.LabelOpts(rotate=15))\n",
    ")\n",
    "\n",
    "# 展示图表\n",
    "save_png_path=\"4分类训练_测试数据可视化分布.html\"\n",
    "\n",
    "## 这里用读写方法直接创建一个文件，防止不存在。\n",
    "file=open(save_png_path,\"w\")\n",
    "file.close()\n",
    "\n",
    "bar.render(path=save_png_path)\n",
    "bar.render_notebook()"
   ]
  },
  {
   "cell_type": "markdown",
   "metadata": {},
   "source": [
    "## 构建四十分类数据集"
   ]
  },
  {
   "cell_type": "markdown",
   "metadata": {},
   "source": [
    "### 获取对应的图片及标签"
   ]
  },
  {
   "cell_type": "code",
   "execution_count": 16,
   "metadata": {},
   "outputs": [],
   "source": [
    "def get_image_info():\n",
    "    \n",
    "    data_path_txt = os.path.join(data_path,'*.txt') # 所有*.txt 文件\n",
    "    txt_file_list = glob(data_path_txt)\n",
    "    \n",
    "    #print(txt_file_list[:2])\n",
    "    \n",
    "    \n",
    "    # 存储txt 文件变量 \n",
    "    img_path_list = []\n",
    "    img_name2label_dict = {}\n",
    "    \n",
    "    img_label_dict = {} \n",
    "    #读取我们文件的内容\n",
    "    for file_path in txt_file_list:\n",
    "        \n",
    "        # 读取文件内容\n",
    "        with open(file_path,'r') as f:\n",
    "            line = f.readline()\n",
    "            \n",
    "        #print(line)\n",
    "        line = line.strip()\n",
    "        img_name = line.split(',')[0]\n",
    "        img_label = line.split(',')[1]\n",
    "        img_label = int(img_label) \n",
    "        # 文件路径  ../data/garbage_classify/train_data/img_10.jpg\n",
    "        img_name_path = os.path.join(base_path,'garbage_classify/train_data/{}'.format(img_name))\n",
    "        \n",
    "        img_path_list.append({'img_name_path':img_name_path,'img_label':img_label})\n",
    "        \n",
    "        \n",
    "        # 图片名称－标签\n",
    "        img_name2label_dict[img_name] = img_label\n",
    "        \n",
    "        # 统计每个标签出现的次数<img_label,img_count>\n",
    "        img_label_count = img_label_dict.get(img_label,0)\n",
    "        if img_label_count:\n",
    "            img_label_dict[img_label] = img_label_count + 1\n",
    "        else:\n",
    "            img_label_dict[img_label] =1 \n",
    "            \n",
    "    \n",
    "    # 最终返还的结果\n",
    "    return img_path_list,img_label_dict,img_name2label_dict"
   ]
  },
  {
   "cell_type": "markdown",
   "metadata": {},
   "source": [
    "### 查看分配好的数据的列表"
   ]
  },
  {
   "cell_type": "code",
   "execution_count": 17,
   "metadata": {},
   "outputs": [
    {
     "name": "stdout",
     "output_type": "stream",
     "text": [
      "img_path_list =  [{'img_name_path': './data/garbage_classify/train_data/img_1.jpg', 'img_label': 0}, {'img_name_path': './data/garbage_classify/train_data/img_10.jpg', 'img_label': 0}, {'img_name_path': './data/garbage_classify/train_data/img_100.jpg', 'img_label': 0}]\n",
      "img_label_dict =  {0: 242, 2: 279, 21: 657, 22: 375, 23: 309, 24: 318, 3: 85, 25: 550, 26: 351, 4: 387, 27: 536, 28: 382, 29: 416, 30: 321, 31: 446, 32: 280, 33: 322, 34: 395, 35: 351, 36: 265, 5: 289, 37: 322, 38: 391, 39: 437, 6: 395, 7: 362, 8: 380, 1: 370, 9: 389, 10: 387, 11: 736, 12: 331, 13: 409, 14: 357, 15: 419, 16: 352, 17: 309, 18: 362, 19: 312, 20: 226}\n",
      "img_label_dict len =  40\n"
     ]
    }
   ],
   "source": [
    "img_path_list,img_label_dict,img_name2label_dict = get_image_info()\n",
    "print('img_path_list = ',img_path_list[:3])\n",
    "print('img_label_dict = ',img_label_dict)\n",
    "print('img_label_dict len = ',len(img_label_dict))"
   ]
  },
  {
   "cell_type": "code",
   "execution_count": 18,
   "metadata": {
    "collapsed": true
   },
   "outputs": [],
   "source": [
    "# 默认情况key 进行排序\n",
    "img_label_dict = dict(sorted(img_label_dict.items()))"
   ]
  },
  {
   "cell_type": "code",
   "execution_count": 19,
   "metadata": {
    "collapsed": true
   },
   "outputs": [],
   "source": [
    "label_dict=garbage_classify_rule"
   ]
  },
  {
   "cell_type": "markdown",
   "metadata": {},
   "source": [
    "### 获取四十分类列表"
   ]
  },
  {
   "cell_type": "code",
   "execution_count": 20,
   "metadata": {},
   "outputs": [
    {
     "name": "stdout",
     "output_type": "stream",
     "text": [
      "x =  dict_keys([0, 1, 2, 3, 4, 5, 6, 7, 8, 9, 10, 11, 12, 13, 14, 15, 16, 17, 18, 19, 20, 21, 22, 23, 24, 25, 26, 27, 28, 29, 30, 31, 32, 33, 34, 35, 36, 37, 38, 39])\n",
      "y =  dict_values([242, 370, 279, 85, 387, 289, 395, 362, 380, 389, 387, 736, 331, 409, 357, 419, 352, 309, 362, 312, 226, 657, 375, 309, 318, 550, 351, 536, 382, 416, 321, 446, 280, 322, 395, 351, 265, 322, 391, 437])\n",
      "x =  ['0-其他垃圾/一次性快餐盒', '1-其他垃圾/污损塑料', '2-其他垃圾/烟蒂', '3-其他垃圾/牙签', '4-其他垃圾/破碎花盆及碟碗', '5-其他垃圾/竹筷', '6-厨余垃圾/剩饭剩菜', '7-厨余垃圾/大骨头', '8-厨余垃圾/水果果皮', '9-厨余垃圾/水果果肉', '10-厨余垃圾/茶叶渣', '11-厨余垃圾/菜叶菜根', '12-厨余垃圾/蛋壳', '13-厨余垃圾/鱼骨', '14-可回收物/充电宝', '15-可回收物/包', '16-可回收物/化妆品瓶', '17-可回收物/塑料玩具', '18-可回收物/塑料碗盆', '19-可回收物/塑料衣架', '20-可回收物/快递纸袋', '21-可回收物/插头电线', '22-可回收物/旧衣服', '23-可回收物/易拉罐', '24-可回收物/枕头', '25-可回收物/毛绒玩具', '26-可回收物/洗发水瓶', '27-可回收物/玻璃杯', '28-可回收物/皮鞋', '29-可回收物/砧板', '30-可回收物/纸板箱', '31-可回收物/调料瓶', '32-可回收物/酒瓶', '33-可回收物/金属食品罐', '34-可回收物/锅', '35-可回收物/食用油桶', '36-可回收物/饮料瓶', '37-有害垃圾/干电池', '38-有害垃圾/软膏', '39-有害垃圾/过期药物']\n"
     ]
    }
   ],
   "source": [
    "# 首先，构建数据\n",
    "x = img_label_dict.keys()\n",
    "y = img_label_dict.values()\n",
    "print('x = ',x)\n",
    "print('y = ',y)\n",
    "\n",
    "# 借助python 中列表推导方法\n",
    "x = [\"{}-{}\".format(label_idx,label_dict[str(label_idx)] )\n",
    "     for label_idx in img_label_dict.keys()]\n",
    "\n",
    "print('x = ',x)"
   ]
  },
  {
   "cell_type": "markdown",
   "metadata": {},
   "source": [
    "### 可视化观察"
   ]
  },
  {
   "cell_type": "code",
   "execution_count": 21,
   "metadata": {},
   "outputs": [
    {
     "data": {
      "text/html": [
       "\n",
       "<script>\n",
       "    require.config({\n",
       "        paths: {\n",
       "            'echarts':'https://assets.pyecharts.org/assets/echarts.min'\n",
       "        }\n",
       "    });\n",
       "</script>\n",
       "\n",
       "        <div id=\"907748c6284d450383780c330d3567d9\" style=\"width:1100px; height:500px;\"></div>\n",
       "\n",
       "<script>\n",
       "        require(['echarts'], function(echarts) {\n",
       "                var chart_907748c6284d450383780c330d3567d9 = echarts.init(\n",
       "                    document.getElementById('907748c6284d450383780c330d3567d9'), 'white', {renderer: 'canvas'});\n",
       "                var option_907748c6284d450383780c330d3567d9 = {\n",
       "    \"animation\": true,\n",
       "    \"animationThreshold\": 2000,\n",
       "    \"animationDuration\": 1000,\n",
       "    \"animationEasing\": \"cubicOut\",\n",
       "    \"animationDelay\": 0,\n",
       "    \"animationDurationUpdate\": 300,\n",
       "    \"animationEasingUpdate\": \"cubicOut\",\n",
       "    \"animationDelayUpdate\": 0,\n",
       "    \"color\": [\n",
       "        \"#c23531\",\n",
       "        \"#2f4554\",\n",
       "        \"#61a0a8\",\n",
       "        \"#d48265\",\n",
       "        \"#749f83\",\n",
       "        \"#ca8622\",\n",
       "        \"#bda29a\",\n",
       "        \"#6e7074\",\n",
       "        \"#546570\",\n",
       "        \"#c4ccd3\",\n",
       "        \"#f05b72\",\n",
       "        \"#ef5b9c\",\n",
       "        \"#f47920\",\n",
       "        \"#905a3d\",\n",
       "        \"#fab27b\",\n",
       "        \"#2a5caa\",\n",
       "        \"#444693\",\n",
       "        \"#726930\",\n",
       "        \"#b2d235\",\n",
       "        \"#6d8346\",\n",
       "        \"#ac6767\",\n",
       "        \"#1d953f\",\n",
       "        \"#6950a1\",\n",
       "        \"#918597\"\n",
       "    ],\n",
       "    \"series\": [\n",
       "        {\n",
       "            \"type\": \"bar\",\n",
       "            \"legendHoverLink\": true,\n",
       "            \"data\": [\n",
       "                242,\n",
       "                370,\n",
       "                279,\n",
       "                85,\n",
       "                387,\n",
       "                289,\n",
       "                395,\n",
       "                362,\n",
       "                380,\n",
       "                389,\n",
       "                387,\n",
       "                736,\n",
       "                331,\n",
       "                409,\n",
       "                357,\n",
       "                419,\n",
       "                352,\n",
       "                309,\n",
       "                362,\n",
       "                312,\n",
       "                226,\n",
       "                657,\n",
       "                375,\n",
       "                309,\n",
       "                318,\n",
       "                550,\n",
       "                351,\n",
       "                536,\n",
       "                382,\n",
       "                416,\n",
       "                321,\n",
       "                446,\n",
       "                280,\n",
       "                322,\n",
       "                395,\n",
       "                351,\n",
       "                265,\n",
       "                322,\n",
       "                391,\n",
       "                437\n",
       "            ],\n",
       "            \"showBackground\": false,\n",
       "            \"barMinHeight\": 0,\n",
       "            \"barCategoryGap\": \"20%\",\n",
       "            \"barGap\": \"30%\",\n",
       "            \"large\": false,\n",
       "            \"largeThreshold\": 400,\n",
       "            \"seriesLayoutBy\": \"column\",\n",
       "            \"datasetIndex\": 0,\n",
       "            \"clip\": true,\n",
       "            \"zlevel\": 0,\n",
       "            \"z\": 2,\n",
       "            \"label\": {\n",
       "                \"show\": true,\n",
       "                \"position\": \"top\",\n",
       "                \"margin\": 8\n",
       "            }\n",
       "        }\n",
       "    ],\n",
       "    \"legend\": [\n",
       "        {\n",
       "            \"data\": [\n",
       "                \"\"\n",
       "            ],\n",
       "            \"selected\": {\n",
       "                \"\": true\n",
       "            },\n",
       "            \"show\": true,\n",
       "            \"padding\": 5,\n",
       "            \"itemGap\": 10,\n",
       "            \"itemWidth\": 25,\n",
       "            \"itemHeight\": 14\n",
       "        }\n",
       "    ],\n",
       "    \"tooltip\": {\n",
       "        \"show\": true,\n",
       "        \"trigger\": \"item\",\n",
       "        \"triggerOn\": \"mousemove|click\",\n",
       "        \"axisPointer\": {\n",
       "            \"type\": \"line\"\n",
       "        },\n",
       "        \"showContent\": true,\n",
       "        \"alwaysShowContent\": false,\n",
       "        \"showDelay\": 0,\n",
       "        \"hideDelay\": 100,\n",
       "        \"textStyle\": {\n",
       "            \"fontSize\": 14\n",
       "        },\n",
       "        \"borderWidth\": 0,\n",
       "        \"padding\": 5\n",
       "    },\n",
       "    \"xAxis\": [\n",
       "        {\n",
       "            \"show\": true,\n",
       "            \"scale\": false,\n",
       "            \"nameLocation\": \"end\",\n",
       "            \"nameGap\": 15,\n",
       "            \"gridIndex\": 0,\n",
       "            \"axisLabel\": {\n",
       "                \"show\": true,\n",
       "                \"position\": \"top\",\n",
       "                \"rotate\": 15,\n",
       "                \"margin\": 8\n",
       "            },\n",
       "            \"inverse\": false,\n",
       "            \"offset\": 0,\n",
       "            \"splitNumber\": 5,\n",
       "            \"minInterval\": 0,\n",
       "            \"splitLine\": {\n",
       "                \"show\": false,\n",
       "                \"lineStyle\": {\n",
       "                    \"show\": true,\n",
       "                    \"width\": 1,\n",
       "                    \"opacity\": 1,\n",
       "                    \"curveness\": 0,\n",
       "                    \"type\": \"solid\"\n",
       "                }\n",
       "            },\n",
       "            \"data\": [\n",
       "                \"0-\\u5176\\u4ed6\\u5783\\u573e/\\u4e00\\u6b21\\u6027\\u5feb\\u9910\\u76d2\",\n",
       "                \"1-\\u5176\\u4ed6\\u5783\\u573e/\\u6c61\\u635f\\u5851\\u6599\",\n",
       "                \"2-\\u5176\\u4ed6\\u5783\\u573e/\\u70df\\u8482\",\n",
       "                \"3-\\u5176\\u4ed6\\u5783\\u573e/\\u7259\\u7b7e\",\n",
       "                \"4-\\u5176\\u4ed6\\u5783\\u573e/\\u7834\\u788e\\u82b1\\u76c6\\u53ca\\u789f\\u7897\",\n",
       "                \"5-\\u5176\\u4ed6\\u5783\\u573e/\\u7af9\\u7b77\",\n",
       "                \"6-\\u53a8\\u4f59\\u5783\\u573e/\\u5269\\u996d\\u5269\\u83dc\",\n",
       "                \"7-\\u53a8\\u4f59\\u5783\\u573e/\\u5927\\u9aa8\\u5934\",\n",
       "                \"8-\\u53a8\\u4f59\\u5783\\u573e/\\u6c34\\u679c\\u679c\\u76ae\",\n",
       "                \"9-\\u53a8\\u4f59\\u5783\\u573e/\\u6c34\\u679c\\u679c\\u8089\",\n",
       "                \"10-\\u53a8\\u4f59\\u5783\\u573e/\\u8336\\u53f6\\u6e23\",\n",
       "                \"11-\\u53a8\\u4f59\\u5783\\u573e/\\u83dc\\u53f6\\u83dc\\u6839\",\n",
       "                \"12-\\u53a8\\u4f59\\u5783\\u573e/\\u86cb\\u58f3\",\n",
       "                \"13-\\u53a8\\u4f59\\u5783\\u573e/\\u9c7c\\u9aa8\",\n",
       "                \"14-\\u53ef\\u56de\\u6536\\u7269/\\u5145\\u7535\\u5b9d\",\n",
       "                \"15-\\u53ef\\u56de\\u6536\\u7269/\\u5305\",\n",
       "                \"16-\\u53ef\\u56de\\u6536\\u7269/\\u5316\\u5986\\u54c1\\u74f6\",\n",
       "                \"17-\\u53ef\\u56de\\u6536\\u7269/\\u5851\\u6599\\u73a9\\u5177\",\n",
       "                \"18-\\u53ef\\u56de\\u6536\\u7269/\\u5851\\u6599\\u7897\\u76c6\",\n",
       "                \"19-\\u53ef\\u56de\\u6536\\u7269/\\u5851\\u6599\\u8863\\u67b6\",\n",
       "                \"20-\\u53ef\\u56de\\u6536\\u7269/\\u5feb\\u9012\\u7eb8\\u888b\",\n",
       "                \"21-\\u53ef\\u56de\\u6536\\u7269/\\u63d2\\u5934\\u7535\\u7ebf\",\n",
       "                \"22-\\u53ef\\u56de\\u6536\\u7269/\\u65e7\\u8863\\u670d\",\n",
       "                \"23-\\u53ef\\u56de\\u6536\\u7269/\\u6613\\u62c9\\u7f50\",\n",
       "                \"24-\\u53ef\\u56de\\u6536\\u7269/\\u6795\\u5934\",\n",
       "                \"25-\\u53ef\\u56de\\u6536\\u7269/\\u6bdb\\u7ed2\\u73a9\\u5177\",\n",
       "                \"26-\\u53ef\\u56de\\u6536\\u7269/\\u6d17\\u53d1\\u6c34\\u74f6\",\n",
       "                \"27-\\u53ef\\u56de\\u6536\\u7269/\\u73bb\\u7483\\u676f\",\n",
       "                \"28-\\u53ef\\u56de\\u6536\\u7269/\\u76ae\\u978b\",\n",
       "                \"29-\\u53ef\\u56de\\u6536\\u7269/\\u7827\\u677f\",\n",
       "                \"30-\\u53ef\\u56de\\u6536\\u7269/\\u7eb8\\u677f\\u7bb1\",\n",
       "                \"31-\\u53ef\\u56de\\u6536\\u7269/\\u8c03\\u6599\\u74f6\",\n",
       "                \"32-\\u53ef\\u56de\\u6536\\u7269/\\u9152\\u74f6\",\n",
       "                \"33-\\u53ef\\u56de\\u6536\\u7269/\\u91d1\\u5c5e\\u98df\\u54c1\\u7f50\",\n",
       "                \"34-\\u53ef\\u56de\\u6536\\u7269/\\u9505\",\n",
       "                \"35-\\u53ef\\u56de\\u6536\\u7269/\\u98df\\u7528\\u6cb9\\u6876\",\n",
       "                \"36-\\u53ef\\u56de\\u6536\\u7269/\\u996e\\u6599\\u74f6\",\n",
       "                \"37-\\u6709\\u5bb3\\u5783\\u573e/\\u5e72\\u7535\\u6c60\",\n",
       "                \"38-\\u6709\\u5bb3\\u5783\\u573e/\\u8f6f\\u818f\",\n",
       "                \"39-\\u6709\\u5bb3\\u5783\\u573e/\\u8fc7\\u671f\\u836f\\u7269\"\n",
       "            ]\n",
       "        }\n",
       "    ],\n",
       "    \"yAxis\": [\n",
       "        {\n",
       "            \"show\": true,\n",
       "            \"scale\": false,\n",
       "            \"nameLocation\": \"end\",\n",
       "            \"nameGap\": 15,\n",
       "            \"gridIndex\": 0,\n",
       "            \"inverse\": false,\n",
       "            \"offset\": 0,\n",
       "            \"splitNumber\": 5,\n",
       "            \"minInterval\": 0,\n",
       "            \"splitLine\": {\n",
       "                \"show\": false,\n",
       "                \"lineStyle\": {\n",
       "                    \"show\": true,\n",
       "                    \"width\": 1,\n",
       "                    \"opacity\": 1,\n",
       "                    \"curveness\": 0,\n",
       "                    \"type\": \"solid\"\n",
       "                }\n",
       "            }\n",
       "        }\n",
       "    ],\n",
       "    \"title\": [\n",
       "        {\n",
       "            \"text\": \"\\u5783\\u573e\\u5206\\u7c7b \\u4e0d\\u540c\\u7c7b\\u522b\\u6570\\u636e\\u5206\\u5e03\",\n",
       "            \"padding\": 5,\n",
       "            \"itemGap\": 10\n",
       "        }\n",
       "    ]\n",
       "};\n",
       "                chart_907748c6284d450383780c330d3567d9.setOption(option_907748c6284d450383780c330d3567d9);\n",
       "        });\n",
       "    </script>\n"
      ],
      "text/plain": [
       "<pyecharts.render.display.HTML at 0x1e58021ba20>"
      ]
     },
     "execution_count": 21,
     "metadata": {},
     "output_type": "execute_result"
    }
   ],
   "source": [
    "## 构建pyecharts 需要的数据\n",
    "x = list(x)\n",
    "y = list(y)\n",
    "\n",
    "## 创建pyechats 的Bar 示例对象\n",
    "bar = Bar(init_opts=opts.InitOpts(width='1100px',height='500px'))\n",
    "\n",
    "## 填充数据\n",
    "bar.add_xaxis(xaxis_data=x)\n",
    "bar.add_yaxis(series_name='',y_axis=y)\n",
    "\n",
    "bar.set_global_opts(\n",
    "        # 给我们的表增加一个标题\n",
    "        title_opts=opts.TitleOpts(title='垃圾分类 不同类别数据分布'),\n",
    "        # 使得我们的x 轴数据倾斜\n",
    "        xaxis_opts=opts.AxisOpts(axislabel_opts=opts.LabelOpts(rotate = 15) ) \n",
    "    )\n",
    "## 展示我们的图表\n",
    "file_40_path=\"40分类数据分布查看.html\"\n",
    "\n",
    "file=open(file_40_path,\"w\")\n",
    "file.close()\n",
    "\n",
    "bar.render(file_40_path)\n",
    "bar.render_notebook()"
   ]
  },
  {
   "cell_type": "code",
   "execution_count": 22,
   "metadata": {
    "collapsed": true
   },
   "outputs": [],
   "source": [
    "### 查看"
   ]
  },
  {
   "cell_type": "code",
   "execution_count": 23,
   "metadata": {},
   "outputs": [
    {
     "name": "stdout",
     "output_type": "stream",
     "text": [
      "pic_file_name =  ./data/garbage_classify/train_data\\img_1.jpg\n",
      "img.size =  (800, 575)\n"
     ]
    }
   ],
   "source": [
    "\n",
    "\n",
    "# 获取一张图片\n",
    "base_path = './data/'\n",
    "data_path = os.path.join(base_path,'garbage_classify/train_data')\n",
    "pic_file_name = os.path.join(data_path,'img_1.jpg')\n",
    "print('pic_file_name = ',pic_file_name)\n",
    "\n",
    "# 获取长度和高度\n",
    "img = Image.open(pic_file_name)\n",
    "print('img.size = ',img.size)"
   ]
  },
  {
   "cell_type": "markdown",
   "metadata": {},
   "source": [
    "### 统计所有图片获取比例信息"
   ]
  },
  {
   "cell_type": "code",
   "execution_count": 24,
   "metadata": {},
   "outputs": [
    {
     "data": {
      "text/plain": [
       "[[1, 800, 575, 1.39, 0], [10, 750, 690, 1.09, 0], [100, 688, 357, 1.93, 0]]"
      ]
     },
     "execution_count": 24,
     "metadata": {},
     "output_type": "execute_result"
    }
   ],
   "source": [
    "data_path_jpg = os.path.join(data_path,'*.jpg')\n",
    "\n",
    "\n",
    "data_path_list = glob(data_path_jpg)\n",
    "data_list = []\n",
    "\n",
    "for file_path in data_path_list:\n",
    "    img = Image.open(file_path)\n",
    "    width = img.size[0]\n",
    "    height = img.size[1]\n",
    "    \n",
    "    ratio = float(\"{:.2f}\".format(width/height))\n",
    "    \n",
    "    img_name = file_path.split('\\\\')[-1]\n",
    "    img_id = img_name.split('.')[0].split('_')[1]\n",
    "    img_label = img_name2label_dict.get(img_name,0)\n",
    "    data_list.append([int(img_id),width,height,ratio,int(img_label)])\n",
    "\n",
    "    \n",
    "## 获取到的列表元素为 id 宽度 高度 比例 标签\n",
    "data_list[:3]"
   ]
  },
  {
   "cell_type": "markdown",
   "metadata": {},
   "source": [
    "### 获取所有比例数据"
   ]
  },
  {
   "cell_type": "code",
   "execution_count": 25,
   "metadata": {},
   "outputs": [
    {
     "name": "stdout",
     "output_type": "stream",
     "text": [
      "[1.39, 1.09, 1.93, 0.99, 1.11]\n"
     ]
    }
   ],
   "source": [
    "ratio_list = [ratio[3] for ratio in data_list]\n",
    "print(ratio_list[:5])"
   ]
  },
  {
   "cell_type": "code",
   "execution_count": 26,
   "metadata": {},
   "outputs": [
    {
     "data": {
      "image/png": "[encoded data removed]",
      "text/plain": [
       "<matplotlib.figure.Figure at 0x1e57ea96588>"
      ]
     },
     "metadata": {},
     "output_type": "display_data"
    }
   ],
   "source": [
    "sns.set()\n",
    "np.random.seed(0)\n",
    "\n",
    "# seaborn 直方图展示\n",
    "ax = sns.distplot(ratio_list) # 告诉我么数据分布（0，2）\n",
    "\n",
    "plt.show()"
   ]
  },
  {
   "cell_type": "markdown",
   "metadata": {},
   "source": [
    "### 利用filter过滤数据"
   ]
  },
  {
   "cell_type": "code",
   "execution_count": 27,
   "metadata": {},
   "outputs": [
    {
     "name": "stdout",
     "output_type": "stream",
     "text": [
      "14192\n"
     ]
    },
    {
     "data": {
      "image/png": "[encoded data removed]",
      "text/plain": [
       "<matplotlib.figure.Figure at 0x1e58177d550>"
      ]
     },
     "metadata": {},
     "output_type": "display_data"
    }
   ],
   "source": [
    "ratio_list = list(filter(lambda x:x>0.5 and x<=2,ratio_list))\n",
    "print(len(ratio_list))\n",
    "sns.set()\n",
    "np.random.seed(0)\n",
    "\n",
    "# seaborn 直方图展示\n",
    "ax = sns.distplot(ratio_list) # 告诉我么数据分布（0，2）\n",
    "\n",
    "plt.show()"
   ]
  },
  {
   "cell_type": "code",
   "execution_count": 28,
   "metadata": {},
   "outputs": [
    {
     "data": {
      "text/plain": [
       "14802"
      ]
     },
     "execution_count": 28,
     "metadata": {},
     "output_type": "execute_result"
    }
   ],
   "source": [
    "# 原始数据大小\n",
    "len(img_path_list)"
   ]
  },
  {
   "cell_type": "markdown",
   "metadata": {},
   "source": [
    "### 切分四十分类的数据集"
   ]
  },
  {
   "cell_type": "code",
   "execution_count": 29,
   "metadata": {},
   "outputs": [
    {
     "name": "stdout",
     "output_type": "stream",
     "text": [
      "img_count =  14802\n",
      "train_size =  11841\n",
      "train_img_list size =  11841\n",
      "val_img_list size =  2961\n"
     ]
    }
   ],
   "source": [
    "# 原始数据进行shuffle\n",
    "import random \n",
    "random.shuffle(img_path_list)\n",
    "\n",
    "# 数据分布分布 0.8 0.2\n",
    "img_count = len(img_path_list)\n",
    "train_size = int(img_count*0.8)\n",
    "\n",
    "print('img_count = ',img_count)\n",
    "print('train_size = ',train_size)\n",
    "train_img_list = img_path_list[:train_size]\n",
    "val_img_list = img_path_list[train_size:]\n",
    "\n",
    "print('train_img_list size = ',len(train_img_list))\n",
    "print('val_img_list size = ',len(val_img_list))"
   ]
  },
  {
   "cell_type": "markdown",
   "metadata": {},
   "source": [
    "### 生成数据集\n",
    "* 检测路径是否有效\n",
    "* 生成训练集\n",
    "* 生成测试集"
   ]
  },
  {
   "cell_type": "code",
   "execution_count": 33,
   "metadata": {},
   "outputs": [],
   "source": [
    "## 该路径用于四十分类训练。\n",
    "train_path=os.path.join(base_path,'40_garbage-classify-for-pytorch')\n",
    "if os.path.exists(train_path) is not True:\n",
    "    os.mkdir(train_path)\n",
    "\n",
    "\n",
    "with open(os.path.join(base_path,'40_garbage-classify-for-pytorch/train.txt'),'w') as f:\n",
    "    for img_dict in train_img_list:\n",
    "        \n",
    "        # 文本格式数据\n",
    "        img_name_path = img_dict['img_name_path']#'../data/garbage_classify/train_data/img_1.jpg'\n",
    "        img_label = img_dict['img_label']\n",
    "        \n",
    "        f.write(\"{}\\t{}\\n\".format(img_name_path,img_label))\n",
    "        \n",
    "        # 图片－标签目录\n",
    "        garbage_classify_dir = os.path.join(base_path,'40_garbage-classify-for-pytorch/train/{}'.format(img_label))\n",
    "        \n",
    "        ## 目录创建\n",
    "        if not os.path.exists(garbage_classify_dir):\n",
    "            os.makedirs(garbage_classify_dir)\n",
    "        \n",
    "        ## 图片数据进行拷贝\n",
    "        shutil.copy(img_name_path,garbage_classify_dir)\n",
    "\n",
    "# 验证数据的生成\n",
    "with open(os.path.join(base_path,'40_garbage-classify-for-pytorch/val.txt'),'w') as f:\n",
    "    for img_dict in val_img_list:\n",
    "        \n",
    "        # 文本格式数据\n",
    "        img_name_path = img_dict['img_name_path']#'../data/garbage_classify/train_data/img_1.jpg'\n",
    "        img_label = img_dict['img_label']\n",
    "        \n",
    "        f.write(\"{}\\t{}\\n\".format(img_name_path,img_label))\n",
    "        \n",
    "        # 图片－标签目录\n",
    "        garbage_classify_dir = os.path.join(base_path,'40_garbage-classify-for-pytorch/val/{}'.format(img_label))\n",
    "        \n",
    "        ## 目录创建\n",
    "        if not os.path.exists(garbage_classify_dir):\n",
    "            os.makedirs(garbage_classify_dir)\n",
    "        \n",
    "        ## 图片数据进行拷贝\n",
    "        shutil.copy(img_name_path,garbage_classify_dir)"
   ]
  },
  {
   "cell_type": "code",
   "execution_count": null,
   "metadata": {
    "collapsed": true
   },
   "outputs": [],
   "source": []
  }
 ],
 "metadata": {
  "kernelspec": {
   "display_name": "Python 3",
   "language": "python",
   "name": "python3"
  },
  "language_info": {
   "codemirror_mode": {
    "name": "ipython",
    "version": 3
   },
   "file_extension": ".py",
   "mimetype": "text/x-python",
   "name": "python",
   "nbconvert_exporter": "python",
   "pygments_lexer": "ipython3",
   "version": "3.6.3"
  }
 },
 "nbformat": 4,
 "nbformat_minor": 2
}
