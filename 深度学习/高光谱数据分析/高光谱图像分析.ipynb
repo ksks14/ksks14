{
 "cells": [
  {
   "cell_type": "markdown",
   "metadata": {},
   "source": [
    "# 高光谱图像处理"
   ]
  },
  {
   "cell_type": "markdown",
   "metadata": {},
   "source": [
    "##  构建数据集"
   ]
  },
  {
   "cell_type": "markdown",
   "metadata": {},
   "source": [
    "**同时遍历总矩阵以及标签矩阵，两个矩阵二维平面对应，通过label矩阵判断，如果为0就略掉，说明是黑点，如果不是零，就取一部分，构建一个新的.mat文件，将这些文件填入到一个总的文件夹中，作为总的数据集。**\n"
   ]
  },
  {
   "cell_type": "code",
   "execution_count": 17,
   "metadata": {},
   "outputs": [
    {
     "name": "stdout",
     "output_type": "stream",
     "text": [
      "Deleting completed!\n",
      "Deleting completed!\n"
     ]
    }
   ],
   "source": [
    "'''\n",
    "导入os库删除path目录下的所有文件，用于清除文件夹。这里用于清除先前存储的.mat文件，重构数据集。\n",
    "'''\n",
    "import os\n",
    "def del_files(path):\n",
    "    for root, dirs, files in os.walk(path):\n",
    "        for name in files:\n",
    "            os.remove(os.path.join(root, name))\n",
    "    print('Deleting completed!')\n",
    "# test\n",
    "if __name__ == \"__main__\":\n",
    "    path_1='all_data\\\\'\n",
    "    path_2='all_test_data\\\\'\n",
    "    del_files(path_1)\n",
    "    del_files(path_2)"
   ]
  },
  {
   "cell_type": "markdown",
   "metadata": {},
   "source": [
    "## 文件路径等信息"
   ]
  },
  {
   "cell_type": "code",
   "execution_count": 124,
   "metadata": {
    "collapsed": true
   },
   "outputs": [],
   "source": [
    "import scipy.io as scio\n",
    "import numpy as np\n",
    "import csv\n",
    "import os\n",
    "import torch\n",
    "import torch.nn.functional as F\n",
    "\n",
    "from torch.autograd import Variable\n",
    "\n",
    "\n",
    "\n",
    "data_total_path=\"all_data//\"\n",
    "data_train_path=\"all_train_data//\"\n",
    "data_test_path=\"all_test_data//\"\n",
    "data_test_new_path=\"all_test_new_data//\"\n",
    "cluster_message_path=\"cluster//\"\n",
    "\n",
    "\n",
    "each_other_dist_file=\"each_other_dist.csv\"\n",
    "\n",
    "label_file_name=\"Indian_pines_gt.mat\"\n",
    "data_file_name=\"Indian_pines.mat\""
   ]
  },
  {
   "cell_type": "markdown",
   "metadata": {},
   "source": [
    "## 完成数据集的构建\n",
    "\n",
    "* 求得总数据集\n",
    "* 更新三个空文件夹\n",
    "* 以某种算法分配测试集和训练集\n"
   ]
  },
  {
   "cell_type": "code",
   "execution_count": 19,
   "metadata": {
    "collapsed": true
   },
   "outputs": [],
   "source": [
    "label_file=scio.loadmat(label_file_name)\n",
    "data_file=scio.loadmat(data_file_name)\n",
    "\n",
    "\n",
    "label_array=label_file['indian_pines_gt']\n",
    "data_array=data_file['indian_pines']\n",
    "\n",
    "\n",
    "#矩阵类型为numpy.array，shape为145*145*220。\n",
    "#处理矩阵外围数据\n",
    "\n",
    "data_fin_array=np.zeros([149,149,220],np.uint8)\n",
    "data_fin_array[2:147,2:147,:]=data_array\n",
    "\n",
    "index=0\n",
    "\n",
    "#构建总数据集\n",
    "#构建训练集\n",
    "#构建测试集\n",
    "for i in range(2,147):\n",
    "    for j in range(2,147):\n",
    "        index+=1\n",
    "        #不为0符合添加条件\n",
    "        if label_array[i-2][j-2]!=0 :\n",
    "            data_now=data_fin_array[i-2:i+3,j-2:j+3,:]\n",
    "            scio.savemat(data_total_path+str(i)+str(j)+\".mat\",{\"label\":label_array[i-2][j-2],\"data\":data_now})\n",
    "            if index%30==0:\n",
    "                scio.savemat(data_test_path+str(i)+str(j)+\".mat\",{\"label\":label_array[i-2][j-2],\"data\":data_now})\n",
    "            if i==2 or j==2 or i==146 or j==146 :\n",
    "                scio.savemat(data_train_path+str(i)+str(j)+\".mat\",{\"label\":label_array[i-2][j-2],\"data\":data_now})\n",
    "                continue\n",
    "            if index%10==0 :\n",
    "                scio.savemat(data_train_path+str(i)+str(j)+\".mat\",{\"label\":label_array[i-2][j-2],\"data\":data_now})\n",
    "        else:\n",
    "            continue\n"
   ]
  },
  {
   "cell_type": "markdown",
   "metadata": {},
   "source": [
    "# 基于快速搜索和局部密度峰值的聚类\n",
    "\n",
    "## 目标：用所有数据点做聚类\n",
    "\n",
    "\n",
    "* 处理数据\n",
    "* 为数据打点\n",
    "* 计算欧氏距离\n",
    "* 将数据写入csv文件。"
   ]
  },
  {
   "cell_type": "code",
   "execution_count": 20,
   "metadata": {
    "collapsed": true
   },
   "outputs": [],
   "source": [
    "'''\n",
    "dist:calculate the Euclidean distance between vectors\n",
    "dist函数：计算向量间的欧氏距离\n",
    "'''\n",
    "def dist(vec_a,vec_b):\n",
    "    return np.sqrt(np.sum(np.square(vec_a-vec_b)))"
   ]
  },
  {
   "cell_type": "code",
   "execution_count": 5,
   "metadata": {},
   "outputs": [
    {
     "name": "stdout",
     "output_type": "stream",
     "text": [
      "10044\n"
     ]
    }
   ],
   "source": [
    "'''\n",
    "这里写入csv文件，由于文件数量过大，以及欧氏距离的复杂计算，本设备不支持计算过大的数据，选取其中一部分数据进行测试。\n",
    "'''\n",
    "for root, dirs, files in os.walk(data_total_path):\n",
    "    file_len=len(files)\n",
    "    print(file_len)\n",
    "    with open(each_other_dist_file,\"w\",newline=\"\") as file_write:\n",
    "        #创建写入对象\n",
    "        file_writer=csv.writer(file_write)\n",
    "        for i in range(int(file_len*0.05)-1):\n",
    "            for j in range(i+1,int(file_len*0.05)):\n",
    "                #这里注意更新列表，否则每一次添加列表会导致文件巨大。。。。\n",
    "                write_to_list=[]\n",
    "                vec_a=scio.loadmat(root+files[i])[\"data\"]\n",
    "                vec_b=scio.loadmat(root+files[j])[\"data\"]\n",
    "                dist_now=dist(vec_a,vec_b)\n",
    "                write_to_list.append(i)\n",
    "                write_to_list.append(j)\n",
    "                write_to_list.append(dist_now)\n",
    "                file_writer.writerow(write_to_list)\n",
    "                \n",
    "            "
   ]
  },
  {
   "cell_type": "markdown",
   "metadata": {},
   "source": [
    "# 对部分数据，做聚类任务，基于快速搜索和局部密度峰值的聚类"
   ]
  },
  {
   "cell_type": "code",
   "execution_count": 26,
   "metadata": {},
   "outputs": [
    {
     "name": "stdout",
     "output_type": "stream",
     "text": [
      "加载文件\n",
      "198\n",
      "199\n",
      "199\n",
      "average percentage of neighbours: 2.0\n",
      "截断距离是: 685.7317259686911\n",
      "767.6405408783462\n",
      "Generated file:DECISION GRAPH\n",
      "column 1:Density\n",
      "column 2:Delta\n"
     ]
    },
    {
     "data": {
      "image/png": "[encoded data removed]",
      "text/plain": [
       "<matplotlib.figure.Figure at 0x22fff218b00>"
      ]
     },
     "metadata": {},
     "output_type": "display_data"
    },
    {
     "name": "stdout",
     "output_type": "stream",
     "text": [
      "please input rho密度最小值22\n",
      "please input delta距离最小值660\n",
      "NUMBER OF CLUSTERS: 3 \n",
      "\n",
      "Performing assignation\n"
     ]
    },
    {
     "data": {
      "image/png": "[encoded data removed]",
      "text/plain": [
       "<matplotlib.figure.Figure at 0x22fff5261d0>"
      ]
     },
     "metadata": {},
     "output_type": "display_data"
    },
    {
     "name": "stdout",
     "output_type": "stream",
     "text": [
      "打点结束\n"
     ]
    }
   ],
   "source": [
    "'''\n",
    "完成聚类任务。\n",
    "'''\n",
    "\n",
    "\n",
    "import numpy as np\n",
    "import pandas as pd\n",
    "from matplotlib import pyplot as plt\n",
    "\n",
    "\n",
    "plt.rcParams['figure.figsize'] =(8.0,4.0) # 设置figure_size尺寸\n",
    "plt.rcParams['image.interpolation'] = 'nearest' # 设置 interpolation style\n",
    "plt.rcParams['image.cmap'] = 'gray' # 设置 颜色 style\n",
    "\n",
    "#防止绘图出现乱码的问题\n",
    "plt.rcParams['font.sans-serif'] = ['SimHei'] # 步骤一（替换sans-serif字体）\n",
    "plt.rcParams['axes.unicode_minus'] = False   # 步骤二（解决坐标轴负数的负号显示问题）\n",
    "\n",
    "#加载文件\n",
    "print(\"加载文件\")\n",
    "xx=pd.read_csv('each_other_dist.csv',sep=\",\",header=None)\n",
    "\n",
    "NL=max(xx[0])\n",
    "ND=max(xx[1])\n",
    "print(NL)\n",
    "if NL>ND:\n",
    "    ND=NL #确保 ND 取为第一二列最大值中的较大者，并将其作为数据点总数\n",
    "N = len(xx)#距离个数  xx 第一个维度的长度，相当于文件的行数（即距离的总个数）\n",
    "\n",
    "#初始化为dist数组为0\n",
    "print(ND)\n",
    "dist=np.zeros([ND,ND])\n",
    "print(dist.shape[0])\n",
    "#print(xx[2][2000])\n",
    "\n",
    "#为dist数组赋值\n",
    "for i in range(N):\n",
    "    ii = xx[0][i]-1\n",
    "    jj = xx[1][i]-1\n",
    "    #将距离赋予矩阵\n",
    "    dist[ii][jj]=xx[2][i]\n",
    "    dist[jj][ii]=xx[2][i]\n",
    "# 测试赋值所需时间\n",
    "\n",
    "#取截断距离\n",
    "percent=2.0\n",
    "print(\"average percentage of neighbours:\",percent)\n",
    "\n",
    "position=round(N*percent/100); #round 是一个四舍五入函数\n",
    "sda=xx[2].sort_values().tolist()\n",
    "dc=sda[position]\n",
    "#输出截断距离\n",
    "print(\"截断距离是:\",dc)\n",
    "\n",
    "#计算局部密度 rho(用Gaussian高斯核）\n",
    "from math import exp\n",
    "\n",
    "#1.将每个数据点的rho值初始化为0\n",
    "rho=np.zeros(ND)\n",
    "\n",
    " #\"Cut off\" kernel\n",
    "\n",
    "for i in range(1,ND-1):\n",
    "    for j in range(i+1,ND):\n",
    "        if dist[i,j]<dc:\n",
    "            rho[i]=rho[i]+1.;\n",
    "            rho[j]=rho[j]+1.;\n",
    "\n",
    "# 先求矩阵列最大值，再求最大值，最后得到所有距离值中的最大值\n",
    "maxd=dist.max()\n",
    "print(maxd)\n",
    "\n",
    "#将密度rho降序排列，ordho保持序\n",
    "ordrho = np.argsort(-1*rho)\n",
    "rho_sorted =rho[ordrho]\n",
    "\n",
    "#初始化delta数组和nneigh数组\n",
    "delta=[maxd]*ND\n",
    "nneigh=[0]*ND\n",
    " #处理 rho 值最大的数据点\n",
    "delta[ordrho[0]] = -1\n",
    "nneigh[ordrho[0]] = 0\n",
    "\n",
    "#delta 和 nneigh 数组赋值\n",
    "for ii in range(1,ND):\n",
    "    for jj in range(0,ii):\n",
    "        if dist[ordrho[ii],ordrho[jj]]<delta[ordrho[ii]]:\n",
    "            delta[ordrho[ii]]=dist[ordrho[ii],ordrho[jj]]\n",
    "            nneigh[ordrho[ii]]=ordrho[jj]\n",
    "# 记录 rho 值更大的数据点中与 ordrho(ii) 距离最近的点的编号 ordrho(jj)\n",
    "\n",
    "# 生成 rho 值最大数据点的 delta 值\n",
    "delta[ordrho[0]]=max(delta)\n",
    "\n",
    "# 决策图\n",
    "print('Generated file:DECISION GRAPH')\n",
    "print('column 1:Density')\n",
    "print('column 2:Delta')\n",
    "#开画图文件写画图文件\n",
    "with open(cluster_message_path+'DECISION_GRAPH','w') as fid:\n",
    "    for i in range(ND):\n",
    "        fid.write('%6.2f %6.2f\\n'%(rho[i],delta[i]))\n",
    "#选择一个围住类中心的矩形\n",
    "#print('Select a rectangle enclosing cluster centers')\n",
    "#scrsz = get(0,'ScreenSize');\n",
    "#figure('Position',[6 72 scrsz(3)/4. scrsz(4)/1.3]);\n",
    "plt.xlabel('密度rho')\n",
    "plt.ylabel('距离delta')\n",
    "plt.scatter(rho,delta)\n",
    "plt.show()\n",
    "\n",
    "\n",
    "#输入选取聚类中心的范围（最小值）\n",
    "rhomin=int(input(\"please input rho密度最小值\"))\n",
    "deltamin=float(input(\"please input delta距离最小值\"))\n",
    "\n",
    "#初始化 cluster 个数\n",
    "NCLUST=0;\n",
    "\n",
    "# cl 为归属标志数组，cl[i]=j 表示第 i 号数据点归属于第 j 个 cluster\n",
    "#先统一将 cl 初始化为 -1\n",
    "cl=[-1]*ND\n",
    "#初始化 点映射到类别列表\n",
    "icl=[-1]*10\n",
    "\n",
    "#在矩形区域内统计数据点（即聚类中心）的个数\n",
    "for i in range(ND):\n",
    "    if  (rho[i]>rhomin) and (delta[i]>deltamin):\n",
    "        NCLUST=NCLUST+1;\n",
    "        cl[i]=NCLUST # 第 i 号数据点属于第 NCLUST 个 cluster\n",
    "        #icl[NCLUST]=i # 逆映射,第 NCLUST 个 cluster 的中心为第 i 号数据点\n",
    "\n",
    "print('NUMBER OF CLUSTERS: %i \\n'%NCLUST)\n",
    "print('Performing assignation')\n",
    "\n",
    "#将其他数据点归类 (assignation)\n",
    "for i in range(ND):\n",
    "    if (cl[ordrho[i]]==-1):\n",
    "        cl[ordrho[i]]=cl[nneigh[ordrho[i]]]\n",
    "\n",
    "#由于是按照 rho 值从大到小的顺序遍历,循环结束后, cl 应该都变成正的值了\n",
    "\n",
    "halo=[-1]*ND\n",
    "rho_aver=0\n",
    "#处理光晕点：\n",
    "if (NCLUST>1):\n",
    "    for i in range(ND):\n",
    "        halo[i]=cl[i]\n",
    "    bord_rho=np.zeros(NCLUST+1)\n",
    "#初始化数组 bord_rho 为 0,每个 cluster 定义一个 bord_rho 值\n",
    "#获取每一个 cluster 中平均密度的一个界 bord_rho\n",
    "    for i in range(ND - 1):\n",
    "        for j in range(i+1,ND):\n",
    "# 距离足够小但不属于同一个cluster的i和j\n",
    "            if (cl[i]!=cl[j]) and (dist[i,j]<= dc):\n",
    "                rho_aver = (rho[i] + rho[j]) / 2\n",
    "# 取i, j两点的平均局部密度\n",
    "                if rho_aver > bord_rho[cl[i]]:\n",
    "                    bord_rho[cl[i]] = rho_aver\n",
    "\n",
    "                if rho_aver > bord_rho[cl[j]]:\n",
    "                    bord_rho[cl[j]] = rho_aver\n",
    "\n",
    "\n",
    "\n",
    "#halo 值为 0 表示为 outlier\n",
    "for i in range(ND):\n",
    "    if rho[i]<bord_rho[cl[i]]:\n",
    "        halo[i]=0\n",
    "\n",
    "#逐一处理每个 cluster\n",
    "for i in range(NCLUST):\n",
    "    nc=0; #用于累计当前 cluster 中数据点的个数\n",
    "    nh=0; # 用于累计当前 cluster 中核心数据点的个数\n",
    "    for j in range(ND):\n",
    "        if cl[j]==i:\n",
    "            nc=nc+1\n",
    "\n",
    "        if halo[j]==i:\n",
    "            nh=nh+1\n",
    "\n",
    "#写聚类后的打标文件\n",
    "with open(cluster_message_path+'clustered_data.txt','w') as fp:\n",
    "    for i in range(ND):\n",
    "        fp.write('%d,%6.2f,%6.2f,%d\\n'%(i,rho[i],delta[i],cl[i]))\n",
    "\n",
    "\n",
    "colors = ['b','g','r','orange','c','m','y','k','w','p','gray','darkred','peru','sandybrown','pink','cyan']\n",
    "plt.xlabel('密度rho')\n",
    "plt.ylabel('距离delta')\n",
    "for i in range(ND):\n",
    "    for j in range(len(colors)):\n",
    "        if int(cl[i]) == j:\n",
    "            plt.scatter(rho[i], delta[i],c=colors[j])\n",
    "            continue\n",
    "plt.show()\n",
    "print(\"打点结束\")"
   ]
  },
  {
   "cell_type": "markdown",
   "metadata": {},
   "source": [
    "# 构建BP网络，部分训练集\n",
    "\n",
    "* 多分类网络，经过统计数据分为16类。\n",
    "* 利用文件的data和label构建数据集，先用测试集训练网络。\n",
    "* 构建var数据集，pytorch神经元接受var输入。\n",
    "* 利用pytorch搭建多分类网络（网络分为回归和分类）。"
   ]
  },
  {
   "cell_type": "code",
   "execution_count": 21,
   "metadata": {
    "collapsed": true
   },
   "outputs": [],
   "source": [
    "def print_files(path):\n",
    "    for root, dirs, files in os.walk(path):\n",
    "        for name in files:\n",
    "            scio.loadmat(os.path.join(root, name))\n",
    "        print(\"finished\")\n",
    "        \n",
    "        "
   ]
  },
  {
   "cell_type": "code",
   "execution_count": 105,
   "metadata": {},
   "outputs": [
    {
     "name": "stdout",
     "output_type": "stream",
     "text": [
      "load data finished!\n"
     ]
    }
   ],
   "source": [
    "#训练集和测试集的列表，这里用列表存储np.array\n",
    "train_x,train_y=[],[]\n",
    "\n",
    "for root, dirs, files in os.walk(data_train_path):\n",
    "    for name in files:\n",
    "        src=scio.loadmat(os.path.join(root, name))\n",
    "        src_data=src[\"data\"].reshape(5500)\n",
    "        train_x.append(src_data)\n",
    "        train_y_now=src[\"label\"]-1\n",
    "        train_y.append(train_y_now[0])\n",
    "    print(\"load data finished!\")\n",
    "\n"
   ]
  },
  {
   "cell_type": "code",
   "execution_count": 106,
   "metadata": {},
   "outputs": [],
   "source": [
    "x=Variable(torch.FloatTensor(train_x))\n",
    "y=Variable(torch.FloatTensor(train_y)).reshape(1073,).type(torch.LongTensor)"
   ]
  },
  {
   "cell_type": "code",
   "execution_count": 107,
   "metadata": {},
   "outputs": [
    {
     "name": "stdout",
     "output_type": "stream",
     "text": [
      "torch.Size([1073, 5500])\n",
      "torch.Size([1073])\n"
     ]
    }
   ],
   "source": [
    "print(x.shape)\n",
    "print(y.shape)"
   ]
  },
  {
   "cell_type": "markdown",
   "metadata": {},
   "source": [
    "## 网络结构\n",
    "\n",
    "* 5500->200->16"
   ]
  },
  {
   "cell_type": "code",
   "execution_count": 113,
   "metadata": {},
   "outputs": [
    {
     "name": "stdout",
     "output_type": "stream",
     "text": [
      "Net(\n",
      "  (hidden_1): Linear(in_features=5500, out_features=2000, bias=True)\n",
      "  (hidden_2): Linear(in_features=2000, out_features=500, bias=True)\n",
      "  (hidden_3): Linear(in_features=500, out_features=200, bias=True)\n",
      "  (predict): Linear(in_features=200, out_features=16, bias=True)\n",
      ")\n"
     ]
    },
    {
     "name": "stderr",
     "output_type": "stream",
     "text": [
      "E:\\desk\\Desktop\\Programming_and_Learning\\anconda\\lib\\site-packages\\ipykernel_launcher.py:43: UserWarning: Implicit dimension choice for softmax has been deprecated. Change the call to include dim=X as an argument.\n"
     ]
    },
    {
     "name": "stdout",
     "output_type": "stream",
     "text": [
      "Accuracy=0.83\n",
      "Accuracy=1.00\n"
     ]
    }
   ],
   "source": [
    "\n",
    "\n",
    "\n",
    "\n",
    "class Net(torch.nn.Module):\n",
    "    def __init__(self,n_feature,n_hidden_1,n_hidden_2,n_hidden_3,n_output):\n",
    "        super(Net,self).__init__()\n",
    "        self.hidden_1=torch.nn.Linear(n_feature,n_hidden_1)\n",
    "        self.hidden_2=torch.nn.Linear(n_hidden_1,n_hidden_2)\n",
    "        self.hidden_3=torch.nn.Linear(n_hidden_2,n_hidden_3)\n",
    "        self.predict=torch.nn.Linear(n_hidden_3,n_output)\n",
    "        \n",
    "    def forward(self,x):\n",
    "        x=F.relu(self.hidden_1(x))\n",
    "        x=F.relu(self.hidden_2(x))\n",
    "        x=F.relu(self.hidden_3(x))\n",
    "   \n",
    "        x=self.predict(x)\n",
    "        return x\n",
    "    \n",
    "    \n",
    "net=Net(5500,2000,500,200,16)\n",
    "print(net)\n",
    "\n",
    "#学习率设置一般可以选择设置小一点，因为学习率设置过大，可能会导致它少学习到很多特征。\n",
    "optimizer=torch.optim.SGD(net.parameters(),lr=0.002)\n",
    "\n",
    "#torch.nn.CrossEntropyLoss()计算交叉熵损失\n",
    "loss_func=torch.nn.CrossEntropyLoss()\n",
    "\n",
    "\n",
    "#动态\n",
    "\n",
    "for t in range(1000):\n",
    "    out = net(x) \n",
    "    loss = loss_func(out, y)     # must be (1. nn output, 2. target), the target label is NOT one-hotted\n",
    "\n",
    "    optimizer.zero_grad()   # clear gradients for next train\n",
    "    loss.backward()         # backpropagation, compute gradients\n",
    "    optimizer.step()        # apply gradients\n",
    "    \n",
    "    #softmax激活函数，将输出转化为概率。torch.max将最大值的概率输出\n",
    "    _, prediction = torch.max(F.softmax(out), 1)\n",
    "    pred_y = prediction.data.numpy().squeeze()\n",
    "    target_y = y.data.numpy()\n",
    "    accuracy = sum(pred_y == target_y)/1073\n",
    "    if t==499 or t==999:\n",
    "        print(\"Accuracy=%.2f\"% accuracy)\n",
    "\n"
   ]
  },
  {
   "cell_type": "markdown",
   "metadata": {},
   "source": [
    "### 利用bp网络多多分类任务，精度。。。。"
   ]
  },
  {
   "cell_type": "markdown",
   "metadata": {},
   "source": [
    "## 保存模型"
   ]
  },
  {
   "cell_type": "code",
   "execution_count": 114,
   "metadata": {},
   "outputs": [],
   "source": [
    "torch.save(net, 'BPggp.pkl')  # save entire net"
   ]
  },
  {
   "cell_type": "markdown",
   "metadata": {},
   "source": [
    "## 加载模型之后，利用测试集进行测试\n",
    "* 加载模型\n",
    "* 加载测试集数据\n",
    "* 利用测试集测试精度"
   ]
  },
  {
   "cell_type": "code",
   "execution_count": 115,
   "metadata": {},
   "outputs": [
    {
     "name": "stdout",
     "output_type": "stream",
     "text": [
      "load data finished!\n"
     ]
    }
   ],
   "source": [
    "test_x,test_y=[],[]\n",
    "\n",
    "for root, dirs, files in os.walk(data_test_path):\n",
    "    for name in files:\n",
    "        src=scio.loadmat(os.path.join(root, name))\n",
    "        src_data=src[\"data\"].reshape(5500)\n",
    "        test_x.append(src_data)\n",
    "        test_y_now=src[\"label\"]-1\n",
    "        test_y.append(test_y_now[0])\n",
    "    print(\"load data finished!\")"
   ]
  },
  {
   "cell_type": "code",
   "execution_count": 116,
   "metadata": {},
   "outputs": [],
   "source": [
    "x_test=Variable(torch.FloatTensor(test_x))\n",
    "y_test=Variable(torch.FloatTensor(test_y)).reshape(335,).type(torch.LongTensor)"
   ]
  },
  {
   "cell_type": "code",
   "execution_count": 117,
   "metadata": {},
   "outputs": [],
   "source": [
    "net_test=torch.load(\"BPggp.pkl\")"
   ]
  },
  {
   "cell_type": "code",
   "execution_count": 121,
   "metadata": {},
   "outputs": [
    {
     "name": "stderr",
     "output_type": "stream",
     "text": [
      "E:\\desk\\Desktop\\Programming_and_Learning\\anconda\\lib\\site-packages\\ipykernel_launcher.py:3: UserWarning: Implicit dimension choice for softmax has been deprecated. Change the call to include dim=X as an argument.\n",
      "  This is separate from the ipykernel package so we can avoid doing imports until\n"
     ]
    },
    {
     "name": "stdout",
     "output_type": "stream",
     "text": [
      "Accuracy=1.00\n"
     ]
    }
   ],
   "source": [
    "out = net(x_test) \n",
    "#softmax激活函数，将输出转化为概率。torch.max将最大值的概率输出\n",
    "_, prediction = torch.max(F.softmax(out), 1)\n",
    "pred_y = prediction.data.numpy().squeeze()\n",
    "target_y = y_test.data.numpy()\n",
    "accuracy = sum(pred_y == target_y)/335\n",
    "\n",
    "print(\"Accuracy=%.2f\"% accuracy)"
   ]
  },
  {
   "cell_type": "markdown",
   "metadata": {
    "collapsed": true
   },
   "source": [
    "* 重划分一个比较大的测试集\n",
    "* 用模型进行测试"
   ]
  },
  {
   "cell_type": "code",
   "execution_count": 125,
   "metadata": {
    "collapsed": true
   },
   "outputs": [],
   "source": [
    "label_file=scio.loadmat(label_file_name)\n",
    "data_file=scio.loadmat(data_file_name)\n",
    "\n",
    "\n",
    "label_array=label_file['indian_pines_gt']\n",
    "data_array=data_file['indian_pines']\n",
    "\n",
    "\n",
    "#矩阵类型为numpy.array，shape为145*145*220。\n",
    "#处理矩阵外围数据\n",
    "\n",
    "data_fin_array=np.zeros([149,149,220],np.uint8)\n",
    "data_fin_array[2:147,2:147,:]=data_array\n",
    "\n",
    "index=0\n",
    "\n",
    "#构建总数据集\n",
    "#构建训练集\n",
    "#构建测试集\n",
    "for i in range(2,147):\n",
    "    for j in range(2,147):\n",
    "        index+=1\n",
    "        #不为0符合添加条件\n",
    "        if label_array[i-2][j-2]!=0 :\n",
    "            if index%15==0:\n",
    "                data_now=data_fin_array[i-2:i+3,j-2:j+3,:]\n",
    "                scio.savemat(data_test_new_path+str(i)+str(j)+\".mat\",{\"label\":label_array[i-2][j-2],\"data\":data_now})"
   ]
  },
  {
   "cell_type": "code",
   "execution_count": 126,
   "metadata": {},
   "outputs": [
    {
     "name": "stdout",
     "output_type": "stream",
     "text": [
      "load data finished!\n"
     ]
    }
   ],
   "source": [
    "test_new_x,test_new_y=[],[]\n",
    "\n",
    "for root, dirs, files in os.walk(data_test_new_path):\n",
    "    for name in files:\n",
    "        src=scio.loadmat(os.path.join(root, name))\n",
    "        src_data=src[\"data\"].reshape(5500)\n",
    "        test_new_x.append(src_data)\n",
    "        test_new_y_now=src[\"label\"]-1\n",
    "        test_new_y.append(test_new_y_now[0])\n",
    "    print(\"load data finished!\")"
   ]
  },
  {
   "cell_type": "code",
   "execution_count": 132,
   "metadata": {},
   "outputs": [],
   "source": [
    "x_new_test=Variable(torch.FloatTensor(test_new_x))\n",
    "y_new_test=Variable(torch.FloatTensor(test_new_y)).reshape(665,).type(torch.LongTensor)"
   ]
  },
  {
   "cell_type": "code",
   "execution_count": 133,
   "metadata": {},
   "outputs": [
    {
     "data": {
      "text/plain": [
       "torch.Size([665, 5500])"
      ]
     },
     "execution_count": 133,
     "metadata": {},
     "output_type": "execute_result"
    }
   ],
   "source": [
    "x_new_test.shape"
   ]
  },
  {
   "cell_type": "code",
   "execution_count": 134,
   "metadata": {},
   "outputs": [
    {
     "name": "stderr",
     "output_type": "stream",
     "text": [
      "E:\\desk\\Desktop\\Programming_and_Learning\\anconda\\lib\\site-packages\\ipykernel_launcher.py:3: UserWarning: Implicit dimension choice for softmax has been deprecated. Change the call to include dim=X as an argument.\n",
      "  This is separate from the ipykernel package so we can avoid doing imports until\n"
     ]
    },
    {
     "name": "stdout",
     "output_type": "stream",
     "text": [
      "Accuracy=0.85\n"
     ]
    }
   ],
   "source": [
    "out = net(x_new_test) \n",
    "#softmax激活函数，将输出转化为概率。torch.max将最大值的概率输出\n",
    "_, prediction = torch.max(F.softmax(out), 1)\n",
    "pred_y = prediction.data.numpy().squeeze()\n",
    "target_y = y_new_test.data.numpy()\n",
    "accuracy = sum(pred_y == target_y)/665\n",
    "\n",
    "print(\"Accuracy=%.2f\"% accuracy)"
   ]
  },
  {
   "cell_type": "code",
   "execution_count": null,
   "metadata": {
    "collapsed": true
   },
   "outputs": [],
   "source": []
  },
  {
   "cell_type": "code",
   "execution_count": null,
   "metadata": {
    "collapsed": true
   },
   "outputs": [],
   "source": []
  },
  {
   "cell_type": "code",
   "execution_count": null,
   "metadata": {
    "collapsed": true
   },
   "outputs": [],
   "source": []
  }
 ],
 "metadata": {
  "kernelspec": {
   "display_name": "Python 3",
   "language": "python",
   "name": "python3"
  },
  "language_info": {
   "codemirror_mode": {
    "name": "ipython",
    "version": 3
   },
   "file_extension": ".py",
   "mimetype": "text/x-python",
   "name": "python",
   "nbconvert_exporter": "python",
   "pygments_lexer": "ipython3",
   "version": "3.6.3"
  }
 },
 "nbformat": 4,
 "nbformat_minor": 2
}
